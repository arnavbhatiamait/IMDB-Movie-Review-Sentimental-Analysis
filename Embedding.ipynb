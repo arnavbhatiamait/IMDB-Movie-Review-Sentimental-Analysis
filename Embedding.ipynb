{
 "cells": [
  {
   "cell_type": "markdown",
   "metadata": {},
   "source": [
    "# Embedding in TensorFlow"
   ]
  },
  {
   "cell_type": "code",
   "execution_count": 144,
   "metadata": {},
   "outputs": [
    {
     "name": "stderr",
     "output_type": "stream",
     "text": [
      "I0000 00:00:1732192815.143694    3603 cuda_executor.cc:1001] could not open file to read NUMA node: /sys/bus/pci/devices/0000:01:00.0/numa_node\n",
      "Your kernel may have been built without NUMA support.\n",
      "I0000 00:00:1732192815.143811    3603 cuda_executor.cc:1001] could not open file to read NUMA node: /sys/bus/pci/devices/0000:01:00.0/numa_node\n",
      "Your kernel may have been built without NUMA support.\n",
      "I0000 00:00:1732192815.143837    3603 cuda_executor.cc:1001] could not open file to read NUMA node: /sys/bus/pci/devices/0000:01:00.0/numa_node\n",
      "Your kernel may have been built without NUMA support.\n",
      "I0000 00:00:1732192815.144087    3603 cuda_executor.cc:1001] could not open file to read NUMA node: /sys/bus/pci/devices/0000:01:00.0/numa_node\n",
      "Your kernel may have been built without NUMA support.\n",
      "2024-11-21 18:10:15.144108: I tensorflow/core/common_runtime/gpu/gpu_device.cc:2112] Could not identify NUMA node of platform GPU id 0, defaulting to 0.  Your kernel may not have been built with NUMA support.\n",
      "I0000 00:00:1732192815.144154    3603 cuda_executor.cc:1001] could not open file to read NUMA node: /sys/bus/pci/devices/0000:01:00.0/numa_node\n",
      "Your kernel may have been built without NUMA support."
     ]
    },
    {
     "data": {
      "text/plain": [
       "'/device:GPU:0'"
      ]
     },
     "execution_count": 144,
     "metadata": {},
     "output_type": "execute_result"
    },
    {
     "name": "stderr",
     "output_type": "stream",
     "text": [
      "\n",
      "2024-11-21 18:10:15.144174: I tensorflow/core/common_runtime/gpu/gpu_device.cc:2021] Created device /device:GPU:0 with 5563 MB memory:  -> device: 0, name: NVIDIA GeForce RTX 4060 Laptop GPU, pci bus id: 0000:01:00.0, compute capability: 8.9\n"
     ]
    }
   ],
   "source": [
    "import tensorflow as tf\n",
    "from tensorflow.keras.preprocessing.text import one_hot\n",
    "tf.test.gpu_device_name()"
   ]
  },
  {
   "cell_type": "code",
   "execution_count": 145,
   "metadata": {},
   "outputs": [],
   "source": [
    "### sentences\n",
    "sent=[  'the glass of milk',\n",
    "     'the glass of juice',\n",
    "     'the cup of tea',\n",
    "    'I am a good boy',\n",
    "     'I am a good developer',\n",
    "     'understand the meaning of words',\n",
    "     'your videos are good',]"
   ]
  },
  {
   "cell_type": "code",
   "execution_count": 146,
   "metadata": {},
   "outputs": [
    {
     "data": {
      "text/plain": [
       "['the glass of milk',\n",
       " 'the glass of juice',\n",
       " 'the cup of tea',\n",
       " 'I am a good boy',\n",
       " 'I am a good developer',\n",
       " 'understand the meaning of words',\n",
       " 'your videos are good']"
      ]
     },
     "execution_count": 146,
     "metadata": {},
     "output_type": "execute_result"
    }
   ],
   "source": [
    "sent"
   ]
  },
  {
   "cell_type": "markdown",
   "metadata": {},
   "source": [
    "Define in vacabulary size fot one hot encoding"
   ]
  },
  {
   "cell_type": "code",
   "execution_count": 147,
   "metadata": {},
   "outputs": [
    {
     "data": {
      "text/plain": [
       "[[1082, 885, 9095, 7436],\n",
       " [1082, 885, 9095, 3284],\n",
       " [1082, 8427, 9095, 2421],\n",
       " [4285, 2868, 9061, 4494, 5407],\n",
       " [4285, 2868, 9061, 4494, 9524],\n",
       " [8766, 1082, 6726, 9095, 6582],\n",
       " [1935, 553, 6081, 4494]]"
      ]
     },
     "execution_count": 147,
     "metadata": {},
     "output_type": "execute_result"
    }
   ],
   "source": [
    "voc_size=10000\n",
    "one_hot_repr=[one_hot(words,voc_size) for words in sent]\n",
    "one_hot_repr"
   ]
  },
  {
   "cell_type": "markdown",
   "metadata": {},
   "source": [
    "#### word Embedding Representation"
   ]
  },
  {
   "cell_type": "code",
   "execution_count": 148,
   "metadata": {},
   "outputs": [],
   "source": [
    "\n",
    "import numpy as np\n",
    "from tensorflow.keras.layers import Embedding\n",
    "#from tensorflow.keras.processing.sequence import pad_sequences\n",
    "from tensorflow.keras.utils import pad_sequences\n",
    "from tensorflow.keras.models import Sequential"
   ]
  },
  {
   "cell_type": "markdown",
   "metadata": {},
   "source": [
    "Setting max sentence length"
   ]
  },
  {
   "cell_type": "code",
   "execution_count": 149,
   "metadata": {},
   "outputs": [
    {
     "name": "stdout",
     "output_type": "stream",
     "text": [
      "[[   0    0    0    0 1082  885 9095 7436]\n",
      " [   0    0    0    0 1082  885 9095 3284]\n",
      " [   0    0    0    0 1082 8427 9095 2421]\n",
      " [   0    0    0 4285 2868 9061 4494 5407]\n",
      " [   0    0    0 4285 2868 9061 4494 9524]\n",
      " [   0    0    0 8766 1082 6726 9095 6582]\n",
      " [   0    0    0    0 1935  553 6081 4494]]\n"
     ]
    }
   ],
   "source": [
    "sent_length =8\n",
    "# ! using padding in start\n",
    "embedded_docs=pad_sequences(one_hot_repr,padding='pre',maxlen=sent_length)\n",
    "print(embedded_docs)"
   ]
  },
  {
   "cell_type": "markdown",
   "metadata": {},
   "source": [
    "Feature representation\n"
   ]
  },
  {
   "cell_type": "code",
   "execution_count": 150,
   "metadata": {},
   "outputs": [],
   "source": [
    "dim=10\n",
    "# ! features representation dim"
   ]
  },
  {
   "cell_type": "code",
   "execution_count": 151,
   "metadata": {},
   "outputs": [
    {
     "name": "stderr",
     "output_type": "stream",
     "text": [
      "/home/arnav_bhatia/anaconda3/envs/py310/lib/python3.10/site-packages/keras/src/layers/core/embedding.py:90: UserWarning: Argument `input_length` is deprecated. Just remove it.\n",
      "  warnings.warn(\n"
     ]
    }
   ],
   "source": [
    "from tensorflow.keras.layers import Embedding\n",
    "model=Sequential()\n",
    "model.add(Embedding(voc_size,dim,input_length=sent_length))\n",
    "\n",
    "model.compile('adam','mse')"
   ]
  },
  {
   "cell_type": "code",
   "execution_count": 152,
   "metadata": {},
   "outputs": [
    {
     "data": {
      "text/html": [
       "<pre style=\"white-space:pre;overflow-x:auto;line-height:normal;font-family:Menlo,'DejaVu Sans Mono',consolas,'Courier New',monospace\"><span style=\"font-weight: bold\">Model: \"sequential_12\"</span>\n",
       "</pre>\n"
      ],
      "text/plain": [
       "\u001b[1mModel: \"sequential_12\"\u001b[0m\n"
      ]
     },
     "metadata": {},
     "output_type": "display_data"
    },
    {
     "data": {
      "text/html": [
       "<pre style=\"white-space:pre;overflow-x:auto;line-height:normal;font-family:Menlo,'DejaVu Sans Mono',consolas,'Courier New',monospace\">┏━━━━━━━━━━━━━━━━━━━━━━━━━━━━━━━━━┳━━━━━━━━━━━━━━━━━━━━━━━━┳━━━━━━━━━━━━━━━┓\n",
       "┃<span style=\"font-weight: bold\"> Layer (type)                    </span>┃<span style=\"font-weight: bold\"> Output Shape           </span>┃<span style=\"font-weight: bold\">       Param # </span>┃\n",
       "┡━━━━━━━━━━━━━━━━━━━━━━━━━━━━━━━━━╇━━━━━━━━━━━━━━━━━━━━━━━━╇━━━━━━━━━━━━━━━┩\n",
       "│ embedding_12 (<span style=\"color: #0087ff; text-decoration-color: #0087ff\">Embedding</span>)        │ ?                      │   <span style=\"color: #00af00; text-decoration-color: #00af00\">0</span> (unbuilt) │\n",
       "└─────────────────────────────────┴────────────────────────┴───────────────┘\n",
       "</pre>\n"
      ],
      "text/plain": [
       "┏━━━━━━━━━━━━━━━━━━━━━━━━━━━━━━━━━┳━━━━━━━━━━━━━━━━━━━━━━━━┳━━━━━━━━━━━━━━━┓\n",
       "┃\u001b[1m \u001b[0m\u001b[1mLayer (type)                   \u001b[0m\u001b[1m \u001b[0m┃\u001b[1m \u001b[0m\u001b[1mOutput Shape          \u001b[0m\u001b[1m \u001b[0m┃\u001b[1m \u001b[0m\u001b[1m      Param #\u001b[0m\u001b[1m \u001b[0m┃\n",
       "┡━━━━━━━━━━━━━━━━━━━━━━━━━━━━━━━━━╇━━━━━━━━━━━━━━━━━━━━━━━━╇━━━━━━━━━━━━━━━┩\n",
       "│ embedding_12 (\u001b[38;5;33mEmbedding\u001b[0m)        │ ?                      │   \u001b[38;5;34m0\u001b[0m (unbuilt) │\n",
       "└─────────────────────────────────┴────────────────────────┴───────────────┘\n"
      ]
     },
     "metadata": {},
     "output_type": "display_data"
    },
    {
     "data": {
      "text/html": [
       "<pre style=\"white-space:pre;overflow-x:auto;line-height:normal;font-family:Menlo,'DejaVu Sans Mono',consolas,'Courier New',monospace\"><span style=\"font-weight: bold\"> Total params: </span><span style=\"color: #00af00; text-decoration-color: #00af00\">0</span> (0.00 B)\n",
       "</pre>\n"
      ],
      "text/plain": [
       "\u001b[1m Total params: \u001b[0m\u001b[38;5;34m0\u001b[0m (0.00 B)\n"
      ]
     },
     "metadata": {},
     "output_type": "display_data"
    },
    {
     "data": {
      "text/html": [
       "<pre style=\"white-space:pre;overflow-x:auto;line-height:normal;font-family:Menlo,'DejaVu Sans Mono',consolas,'Courier New',monospace\"><span style=\"font-weight: bold\"> Trainable params: </span><span style=\"color: #00af00; text-decoration-color: #00af00\">0</span> (0.00 B)\n",
       "</pre>\n"
      ],
      "text/plain": [
       "\u001b[1m Trainable params: \u001b[0m\u001b[38;5;34m0\u001b[0m (0.00 B)\n"
      ]
     },
     "metadata": {},
     "output_type": "display_data"
    },
    {
     "data": {
      "text/html": [
       "<pre style=\"white-space:pre;overflow-x:auto;line-height:normal;font-family:Menlo,'DejaVu Sans Mono',consolas,'Courier New',monospace\"><span style=\"font-weight: bold\"> Non-trainable params: </span><span style=\"color: #00af00; text-decoration-color: #00af00\">0</span> (0.00 B)\n",
       "</pre>\n"
      ],
      "text/plain": [
       "\u001b[1m Non-trainable params: \u001b[0m\u001b[38;5;34m0\u001b[0m (0.00 B)\n"
      ]
     },
     "metadata": {},
     "output_type": "display_data"
    }
   ],
   "source": [
    "model.summary()"
   ]
  },
  {
   "cell_type": "code",
   "execution_count": 153,
   "metadata": {},
   "outputs": [
    {
     "name": "stdout",
     "output_type": "stream",
     "text": [
      "\u001b[1m1/1\u001b[0m \u001b[32m━━━━━━━━━━━━━━━━━━━━\u001b[0m\u001b[37m\u001b[0m \u001b[1m0s\u001b[0m 93ms/step\n"
     ]
    },
    {
     "data": {
      "text/plain": [
       "array([[[-3.42291594e-02,  4.77897413e-02,  2.83894874e-02,\n",
       "         -1.26175061e-02, -4.43079583e-02,  4.31761406e-02,\n",
       "         -7.01807812e-03, -2.03403123e-02,  4.26223166e-02,\n",
       "          2.59931795e-02],\n",
       "        [-3.42291594e-02,  4.77897413e-02,  2.83894874e-02,\n",
       "         -1.26175061e-02, -4.43079583e-02,  4.31761406e-02,\n",
       "         -7.01807812e-03, -2.03403123e-02,  4.26223166e-02,\n",
       "          2.59931795e-02],\n",
       "        [-3.42291594e-02,  4.77897413e-02,  2.83894874e-02,\n",
       "         -1.26175061e-02, -4.43079583e-02,  4.31761406e-02,\n",
       "         -7.01807812e-03, -2.03403123e-02,  4.26223166e-02,\n",
       "          2.59931795e-02],\n",
       "        [-3.42291594e-02,  4.77897413e-02,  2.83894874e-02,\n",
       "         -1.26175061e-02, -4.43079583e-02,  4.31761406e-02,\n",
       "         -7.01807812e-03, -2.03403123e-02,  4.26223166e-02,\n",
       "          2.59931795e-02],\n",
       "        [-2.57433057e-02,  2.46999413e-03,  3.31448056e-02,\n",
       "          4.92281206e-02, -1.14179365e-02,  4.11226489e-02,\n",
       "         -1.57984346e-03,  1.18097067e-02, -2.81653292e-02,\n",
       "         -3.68176214e-02],\n",
       "        [-3.17303091e-03, -1.09450892e-03,  9.25692171e-03,\n",
       "          4.34302352e-02, -4.85410802e-02, -4.12454717e-02,\n",
       "          1.75142772e-02, -1.19323730e-02, -4.76600416e-02,\n",
       "          2.19559781e-02],\n",
       "        [ 4.79476191e-02,  3.74018662e-02,  5.53569943e-03,\n",
       "         -4.85278480e-02,  3.04926522e-02,  4.82602380e-02,\n",
       "         -4.68227863e-02,  6.76577166e-03,  7.23101944e-03,\n",
       "          2.14979090e-02],\n",
       "        [ 1.05908029e-02,  5.37018850e-03,  4.45069559e-02,\n",
       "          4.89648916e-02,  1.94629468e-02, -6.83133677e-03,\n",
       "         -3.70538123e-02,  4.26201336e-02, -2.96560675e-03,\n",
       "          3.32750790e-02]],\n",
       "\n",
       "       [[-3.42291594e-02,  4.77897413e-02,  2.83894874e-02,\n",
       "         -1.26175061e-02, -4.43079583e-02,  4.31761406e-02,\n",
       "         -7.01807812e-03, -2.03403123e-02,  4.26223166e-02,\n",
       "          2.59931795e-02],\n",
       "        [-3.42291594e-02,  4.77897413e-02,  2.83894874e-02,\n",
       "         -1.26175061e-02, -4.43079583e-02,  4.31761406e-02,\n",
       "         -7.01807812e-03, -2.03403123e-02,  4.26223166e-02,\n",
       "          2.59931795e-02],\n",
       "        [-3.42291594e-02,  4.77897413e-02,  2.83894874e-02,\n",
       "         -1.26175061e-02, -4.43079583e-02,  4.31761406e-02,\n",
       "         -7.01807812e-03, -2.03403123e-02,  4.26223166e-02,\n",
       "          2.59931795e-02],\n",
       "        [-3.42291594e-02,  4.77897413e-02,  2.83894874e-02,\n",
       "         -1.26175061e-02, -4.43079583e-02,  4.31761406e-02,\n",
       "         -7.01807812e-03, -2.03403123e-02,  4.26223166e-02,\n",
       "          2.59931795e-02],\n",
       "        [-2.57433057e-02,  2.46999413e-03,  3.31448056e-02,\n",
       "          4.92281206e-02, -1.14179365e-02,  4.11226489e-02,\n",
       "         -1.57984346e-03,  1.18097067e-02, -2.81653292e-02,\n",
       "         -3.68176214e-02],\n",
       "        [-3.17303091e-03, -1.09450892e-03,  9.25692171e-03,\n",
       "          4.34302352e-02, -4.85410802e-02, -4.12454717e-02,\n",
       "          1.75142772e-02, -1.19323730e-02, -4.76600416e-02,\n",
       "          2.19559781e-02],\n",
       "        [ 4.79476191e-02,  3.74018662e-02,  5.53569943e-03,\n",
       "         -4.85278480e-02,  3.04926522e-02,  4.82602380e-02,\n",
       "         -4.68227863e-02,  6.76577166e-03,  7.23101944e-03,\n",
       "          2.14979090e-02],\n",
       "        [-2.91557238e-03, -3.52538116e-02, -2.72023436e-02,\n",
       "         -1.33071914e-02,  2.29188055e-03,  8.42757151e-03,\n",
       "          2.37066187e-02,  2.84269489e-02,  8.67359340e-05,\n",
       "          4.19001617e-02]],\n",
       "\n",
       "       [[-3.42291594e-02,  4.77897413e-02,  2.83894874e-02,\n",
       "         -1.26175061e-02, -4.43079583e-02,  4.31761406e-02,\n",
       "         -7.01807812e-03, -2.03403123e-02,  4.26223166e-02,\n",
       "          2.59931795e-02],\n",
       "        [-3.42291594e-02,  4.77897413e-02,  2.83894874e-02,\n",
       "         -1.26175061e-02, -4.43079583e-02,  4.31761406e-02,\n",
       "         -7.01807812e-03, -2.03403123e-02,  4.26223166e-02,\n",
       "          2.59931795e-02],\n",
       "        [-3.42291594e-02,  4.77897413e-02,  2.83894874e-02,\n",
       "         -1.26175061e-02, -4.43079583e-02,  4.31761406e-02,\n",
       "         -7.01807812e-03, -2.03403123e-02,  4.26223166e-02,\n",
       "          2.59931795e-02],\n",
       "        [-3.42291594e-02,  4.77897413e-02,  2.83894874e-02,\n",
       "         -1.26175061e-02, -4.43079583e-02,  4.31761406e-02,\n",
       "         -7.01807812e-03, -2.03403123e-02,  4.26223166e-02,\n",
       "          2.59931795e-02],\n",
       "        [-2.57433057e-02,  2.46999413e-03,  3.31448056e-02,\n",
       "          4.92281206e-02, -1.14179365e-02,  4.11226489e-02,\n",
       "         -1.57984346e-03,  1.18097067e-02, -2.81653292e-02,\n",
       "         -3.68176214e-02],\n",
       "        [ 5.25794178e-03, -3.48441675e-03,  3.66721302e-03,\n",
       "          6.58642128e-03,  1.64011382e-02,  3.52301709e-02,\n",
       "          1.98301785e-02,  2.98686661e-02, -4.24630046e-02,\n",
       "         -3.43619585e-02],\n",
       "        [ 4.79476191e-02,  3.74018662e-02,  5.53569943e-03,\n",
       "         -4.85278480e-02,  3.04926522e-02,  4.82602380e-02,\n",
       "         -4.68227863e-02,  6.76577166e-03,  7.23101944e-03,\n",
       "          2.14979090e-02],\n",
       "        [ 1.45328157e-02, -2.82504912e-02, -4.62812185e-03,\n",
       "          4.70523871e-02,  3.08730863e-02,  4.50482480e-02,\n",
       "          1.46363489e-02, -3.54544632e-02,  3.21000554e-02,\n",
       "         -2.39255559e-02]],\n",
       "\n",
       "       [[-3.42291594e-02,  4.77897413e-02,  2.83894874e-02,\n",
       "         -1.26175061e-02, -4.43079583e-02,  4.31761406e-02,\n",
       "         -7.01807812e-03, -2.03403123e-02,  4.26223166e-02,\n",
       "          2.59931795e-02],\n",
       "        [-3.42291594e-02,  4.77897413e-02,  2.83894874e-02,\n",
       "         -1.26175061e-02, -4.43079583e-02,  4.31761406e-02,\n",
       "         -7.01807812e-03, -2.03403123e-02,  4.26223166e-02,\n",
       "          2.59931795e-02],\n",
       "        [-3.42291594e-02,  4.77897413e-02,  2.83894874e-02,\n",
       "         -1.26175061e-02, -4.43079583e-02,  4.31761406e-02,\n",
       "         -7.01807812e-03, -2.03403123e-02,  4.26223166e-02,\n",
       "          2.59931795e-02],\n",
       "        [-3.70285884e-02, -1.44486800e-02, -1.10345595e-02,\n",
       "          6.39511272e-03,  3.37089337e-02,  8.33138078e-03,\n",
       "          4.69156355e-03, -4.58737127e-02,  3.20762731e-02,\n",
       "          3.44393402e-03],\n",
       "        [-3.74624617e-02,  4.20871042e-02,  2.45291330e-02,\n",
       "         -2.74520647e-02, -2.85207517e-02,  1.56088918e-03,\n",
       "          1.18821748e-02,  3.48213054e-02,  3.35502364e-02,\n",
       "          2.26671211e-02],\n",
       "        [ 2.34226249e-02,  3.95189561e-02,  3.85891236e-02,\n",
       "          3.77075560e-02,  2.08227299e-02, -2.40854509e-02,\n",
       "          2.17945091e-02,  8.03447887e-03,  9.18585062e-03,\n",
       "         -3.47586051e-02],\n",
       "        [ 1.26165040e-02, -3.92703786e-02, -4.90267649e-02,\n",
       "         -2.16759741e-04,  2.63789333e-02, -2.60194186e-02,\n",
       "         -4.55570817e-02,  2.75466591e-03, -2.38604788e-02,\n",
       "          2.03820728e-02],\n",
       "        [ 3.12090032e-02,  1.34209655e-02,  5.23068756e-03,\n",
       "          7.65223429e-03, -1.89391505e-02,  4.90319468e-02,\n",
       "          6.32582977e-03, -8.33608955e-03,  4.72304858e-02,\n",
       "          4.64526750e-02]],\n",
       "\n",
       "       [[-3.42291594e-02,  4.77897413e-02,  2.83894874e-02,\n",
       "         -1.26175061e-02, -4.43079583e-02,  4.31761406e-02,\n",
       "         -7.01807812e-03, -2.03403123e-02,  4.26223166e-02,\n",
       "          2.59931795e-02],\n",
       "        [-3.42291594e-02,  4.77897413e-02,  2.83894874e-02,\n",
       "         -1.26175061e-02, -4.43079583e-02,  4.31761406e-02,\n",
       "         -7.01807812e-03, -2.03403123e-02,  4.26223166e-02,\n",
       "          2.59931795e-02],\n",
       "        [-3.42291594e-02,  4.77897413e-02,  2.83894874e-02,\n",
       "         -1.26175061e-02, -4.43079583e-02,  4.31761406e-02,\n",
       "         -7.01807812e-03, -2.03403123e-02,  4.26223166e-02,\n",
       "          2.59931795e-02],\n",
       "        [-3.70285884e-02, -1.44486800e-02, -1.10345595e-02,\n",
       "          6.39511272e-03,  3.37089337e-02,  8.33138078e-03,\n",
       "          4.69156355e-03, -4.58737127e-02,  3.20762731e-02,\n",
       "          3.44393402e-03],\n",
       "        [-3.74624617e-02,  4.20871042e-02,  2.45291330e-02,\n",
       "         -2.74520647e-02, -2.85207517e-02,  1.56088918e-03,\n",
       "          1.18821748e-02,  3.48213054e-02,  3.35502364e-02,\n",
       "          2.26671211e-02],\n",
       "        [ 2.34226249e-02,  3.95189561e-02,  3.85891236e-02,\n",
       "          3.77075560e-02,  2.08227299e-02, -2.40854509e-02,\n",
       "          2.17945091e-02,  8.03447887e-03,  9.18585062e-03,\n",
       "         -3.47586051e-02],\n",
       "        [ 1.26165040e-02, -3.92703786e-02, -4.90267649e-02,\n",
       "         -2.16759741e-04,  2.63789333e-02, -2.60194186e-02,\n",
       "         -4.55570817e-02,  2.75466591e-03, -2.38604788e-02,\n",
       "          2.03820728e-02],\n",
       "        [-2.73763891e-02, -2.87062060e-02, -2.81055104e-02,\n",
       "          4.76105474e-02, -2.10052133e-02, -7.43437558e-04,\n",
       "          3.42354290e-02, -4.18087095e-03,  3.76808681e-02,\n",
       "         -2.04141866e-02]],\n",
       "\n",
       "       [[-3.42291594e-02,  4.77897413e-02,  2.83894874e-02,\n",
       "         -1.26175061e-02, -4.43079583e-02,  4.31761406e-02,\n",
       "         -7.01807812e-03, -2.03403123e-02,  4.26223166e-02,\n",
       "          2.59931795e-02],\n",
       "        [-3.42291594e-02,  4.77897413e-02,  2.83894874e-02,\n",
       "         -1.26175061e-02, -4.43079583e-02,  4.31761406e-02,\n",
       "         -7.01807812e-03, -2.03403123e-02,  4.26223166e-02,\n",
       "          2.59931795e-02],\n",
       "        [-3.42291594e-02,  4.77897413e-02,  2.83894874e-02,\n",
       "         -1.26175061e-02, -4.43079583e-02,  4.31761406e-02,\n",
       "         -7.01807812e-03, -2.03403123e-02,  4.26223166e-02,\n",
       "          2.59931795e-02],\n",
       "        [-1.15312226e-02,  3.55034359e-02,  4.87667657e-02,\n",
       "         -1.09259002e-02, -2.05613375e-02, -2.27543954e-02,\n",
       "         -1.36883967e-02,  4.09154557e-02,  3.31711024e-04,\n",
       "         -1.15848668e-02],\n",
       "        [-2.57433057e-02,  2.46999413e-03,  3.31448056e-02,\n",
       "          4.92281206e-02, -1.14179365e-02,  4.11226489e-02,\n",
       "         -1.57984346e-03,  1.18097067e-02, -2.81653292e-02,\n",
       "         -3.68176214e-02],\n",
       "        [-3.34594399e-03,  3.75236757e-02,  1.10535137e-02,\n",
       "          3.83243673e-02, -1.09785683e-02,  4.67361920e-02,\n",
       "          3.22445296e-02,  1.78295486e-02,  4.48277481e-02,\n",
       "          2.68511064e-02],\n",
       "        [ 4.79476191e-02,  3.74018662e-02,  5.53569943e-03,\n",
       "         -4.85278480e-02,  3.04926522e-02,  4.82602380e-02,\n",
       "         -4.68227863e-02,  6.76577166e-03,  7.23101944e-03,\n",
       "          2.14979090e-02],\n",
       "        [ 4.52242978e-02, -1.82042234e-02,  3.67214531e-03,\n",
       "         -3.54165547e-02,  2.46976353e-02, -7.76889175e-03,\n",
       "         -2.48784311e-02,  3.87813561e-02,  1.58565529e-02,\n",
       "         -3.73695269e-02]],\n",
       "\n",
       "       [[-3.42291594e-02,  4.77897413e-02,  2.83894874e-02,\n",
       "         -1.26175061e-02, -4.43079583e-02,  4.31761406e-02,\n",
       "         -7.01807812e-03, -2.03403123e-02,  4.26223166e-02,\n",
       "          2.59931795e-02],\n",
       "        [-3.42291594e-02,  4.77897413e-02,  2.83894874e-02,\n",
       "         -1.26175061e-02, -4.43079583e-02,  4.31761406e-02,\n",
       "         -7.01807812e-03, -2.03403123e-02,  4.26223166e-02,\n",
       "          2.59931795e-02],\n",
       "        [-3.42291594e-02,  4.77897413e-02,  2.83894874e-02,\n",
       "         -1.26175061e-02, -4.43079583e-02,  4.31761406e-02,\n",
       "         -7.01807812e-03, -2.03403123e-02,  4.26223166e-02,\n",
       "          2.59931795e-02],\n",
       "        [-3.42291594e-02,  4.77897413e-02,  2.83894874e-02,\n",
       "         -1.26175061e-02, -4.43079583e-02,  4.31761406e-02,\n",
       "         -7.01807812e-03, -2.03403123e-02,  4.26223166e-02,\n",
       "          2.59931795e-02],\n",
       "        [-2.55046375e-02, -3.74875292e-02,  1.70057081e-02,\n",
       "          3.37490775e-02,  5.76622412e-03, -2.08251011e-02,\n",
       "         -9.12421942e-03, -1.49714835e-02, -3.48964445e-02,\n",
       "          1.53978206e-02],\n",
       "        [-2.55666971e-02, -7.91034847e-03, -2.52157450e-03,\n",
       "         -4.16489616e-02,  1.40182674e-05,  3.24107707e-04,\n",
       "         -4.45583239e-02,  1.28909387e-02, -1.21576563e-02,\n",
       "          4.04266454e-02],\n",
       "        [-1.93340536e-02,  1.13383681e-03,  3.03600542e-02,\n",
       "         -4.67485301e-02,  2.80363820e-02,  2.77368762e-02,\n",
       "         -4.55255024e-02,  4.91512083e-02,  1.28504299e-02,\n",
       "          3.27365659e-02],\n",
       "        [ 1.26165040e-02, -3.92703786e-02, -4.90267649e-02,\n",
       "         -2.16759741e-04,  2.63789333e-02, -2.60194186e-02,\n",
       "         -4.55570817e-02,  2.75466591e-03, -2.38604788e-02,\n",
       "          2.03820728e-02]]], dtype=float32)"
      ]
     },
     "execution_count": 153,
     "metadata": {},
     "output_type": "execute_result"
    }
   ],
   "source": [
    "model.predict(embedded_docs)"
   ]
  },
  {
   "cell_type": "code",
   "execution_count": 168,
   "metadata": {},
   "outputs": [
    {
     "data": {
      "text/plain": [
       "(0, 8)"
      ]
     },
     "execution_count": 168,
     "metadata": {},
     "output_type": "execute_result"
    }
   ],
   "source": [
    "embedded_docs[:0].shape"
   ]
  },
  {
   "cell_type": "code",
   "execution_count": 169,
   "metadata": {},
   "outputs": [
    {
     "data": {
      "text/plain": [
       "(7, 8)"
      ]
     },
     "execution_count": 169,
     "metadata": {},
     "output_type": "execute_result"
    }
   ],
   "source": [
    "embedded_docs.shape"
   ]
  },
  {
   "cell_type": "code",
   "execution_count": 179,
   "metadata": {},
   "outputs": [
    {
     "name": "stdout",
     "output_type": "stream",
     "text": [
      "\u001b[1m1/1\u001b[0m \u001b[32m━━━━━━━━━━━━━━━━━━━━\u001b[0m\u001b[37m\u001b[0m \u001b[1m0s\u001b[0m 20ms/step\n"
     ]
    },
    {
     "data": {
      "text/plain": [
       "(1, 8, 10)"
      ]
     },
     "execution_count": 179,
     "metadata": {},
     "output_type": "execute_result"
    }
   ],
   "source": [
    "model.predict(embedded_docs[:1]).shape"
   ]
  }
 ],
 "metadata": {
  "kernelspec": {
   "display_name": "Python 3",
   "language": "python",
   "name": "python3"
  },
  "language_info": {
   "codemirror_mode": {
    "name": "ipython",
    "version": 3
   },
   "file_extension": ".py",
   "mimetype": "text/x-python",
   "name": "python",
   "nbconvert_exporter": "python",
   "pygments_lexer": "ipython3",
   "version": "3.12.0"
  }
 },
 "nbformat": 4,
 "nbformat_minor": 2
}
